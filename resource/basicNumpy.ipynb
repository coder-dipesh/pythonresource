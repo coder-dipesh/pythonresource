{
 "cells": [
  {
   "cell_type": "markdown",
   "id": "ed9acd4d-988a-4d5e-b16a-02ba05bfdad1",
   "metadata": {},
   "source": [
    "# NumPy"
   ]
  },
  {
   "cell_type": "markdown",
   "id": "31eecd37-d632-4292-875e-24ecaefc12bf",
   "metadata": {},
   "source": [
    "## NumPy is a Python library.\n",
    "\n",
    "## NumPy is used for working with arrays.\n",
    "\n",
    "## NumPy is short for \"Numerical Python\"."
   ]
  },
  {
   "cell_type": "markdown",
   "id": "f867e7e2-bbcd-47c5-8d80-5285cea12c98",
   "metadata": {},
   "source": [
    "It also has functions for working in domain of linear algebra, fourier transform, and matrices.\n",
    "\n",
    "NumPy was created in 2005 by Travis Oliphant. It is an open source project and you can use it freely.\n",
    "\n",
    "NumPy stands for Numerical Python."
   ]
  },
  {
   "cell_type": "markdown",
   "id": "5a863410-b1ef-4e5d-8da2-3037083d7c46",
   "metadata": {},
   "source": [
    "In Python we have lists that serve the purpose of arrays, but they are slow to process.\n",
    "\n",
    "NumPy aims to provide an array object that is up to 50x faster than traditional Python lists.\n",
    "\n",
    "The array object in NumPy is called `ndarray`, it provides a lot of supporting functions that make working with `ndarray` very easy."
   ]
  },
  {
   "cell_type": "markdown",
   "id": "9fa194b5-e84a-4490-a9eb-9e70a685d6d3",
   "metadata": {},
   "source": [
    "Why is NumPy Faster Than Lists?\n",
    "NumPy arrays are stored at one continuous place in memory unlike lists, so processes can access and manipulate them very efficiently."
   ]
  },
  {
   "cell_type": "markdown",
   "id": "83517d30-bfd5-4574-86e7-e1d5c4c0db2c",
   "metadata": {},
   "source": [
    "NumPy is written in python but most part requires fast computation so they are in `C` or `C++`"
   ]
  },
  {
   "cell_type": "code",
   "execution_count": null,
   "id": "6184a92f-99d0-4086-a9f2-dcfc5aacd208",
   "metadata": {},
   "outputs": [],
   "source": []
  },
  {
   "cell_type": "code",
   "execution_count": null,
   "id": "8e626c6a-acee-4c0d-b7dc-8512c6c812c9",
   "metadata": {},
   "outputs": [],
   "source": []
  },
  {
   "cell_type": "code",
   "execution_count": 4,
   "id": "1823467c-8b4a-465b-aaec-dd1d3534c9cd",
   "metadata": {},
   "outputs": [],
   "source": [
    "import numpy as np"
   ]
  },
  {
   "cell_type": "code",
   "execution_count": 2,
   "id": "7d08dba9-b72f-432a-8d71-66b2a02af7a6",
   "metadata": {},
   "outputs": [
    {
     "name": "stdout",
     "output_type": "stream",
     "text": [
      "[1 2 3 4 5]\n",
      "<class 'numpy.ndarray'>\n"
     ]
    }
   ],
   "source": [
    "arr = np.array([1, 2, 3, 4, 5])\n",
    "\n",
    "print(arr)\n",
    "\n",
    "print(type(arr))"
   ]
  },
  {
   "cell_type": "markdown",
   "id": "396edced-aa5a-45e1-b544-acb47d1d7605",
   "metadata": {},
   "source": [
    "### 0-D array"
   ]
  },
  {
   "cell_type": "code",
   "execution_count": 7,
   "id": "7bdfc13c-9842-4686-a5c8-9f6e186f8b62",
   "metadata": {},
   "outputs": [
    {
     "name": "stdout",
     "output_type": "stream",
     "text": [
      "42\n"
     ]
    }
   ],
   "source": [
    "zeroD = np.array(42)\n",
    "\n",
    "print(zeroD)"
   ]
  },
  {
   "cell_type": "markdown",
   "id": "9701ed5d-d96f-4fef-9bcd-78f0ee0861c1",
   "metadata": {},
   "source": [
    "### 1-D array"
   ]
  },
  {
   "cell_type": "code",
   "execution_count": 8,
   "id": "2f68a49e-c69a-49bf-820b-3b317d083961",
   "metadata": {},
   "outputs": [
    {
     "name": "stdout",
     "output_type": "stream",
     "text": [
      "[1 2 3 4 5]\n"
     ]
    }
   ],
   "source": [
    "oneD = np.array([1, 2, 3, 4, 5])\n",
    "\n",
    "print(oneD)"
   ]
  },
  {
   "cell_type": "markdown",
   "id": "52dd5800-fc3f-4332-8818-52c1e8145b2a",
   "metadata": {},
   "source": [
    "### 2-D array"
   ]
  },
  {
   "cell_type": "code",
   "execution_count": 10,
   "id": "8d7e5f74-989f-453c-b594-b27bb63abf91",
   "metadata": {},
   "outputs": [
    {
     "name": "stdout",
     "output_type": "stream",
     "text": [
      "[[1 2 3]\n",
      " [4 5 6]]\n"
     ]
    }
   ],
   "source": [
    "twoD = np.array([\n",
    "    [1, 2, 3],\n",
    "    [4, 5, 6]])\n",
    "\n",
    "print(twoD)"
   ]
  },
  {
   "cell_type": "markdown",
   "id": "53aa6b25-6434-45f2-a6d5-80d8bc5654e3",
   "metadata": {},
   "source": [
    "### 3-D array\n",
    "### Create a 3-D array with two 2-D arrays, both containing two arrays with the values 1,2,3 and 4,5,6:"
   ]
  },
  {
   "cell_type": "code",
   "execution_count": 14,
   "id": "5fada25b-fdb6-4841-9ce7-824be183a315",
   "metadata": {},
   "outputs": [
    {
     "name": "stdout",
     "output_type": "stream",
     "text": [
      "[[[1 2 3]\n",
      "  [4 5 6]]\n",
      "\n",
      " [[1 2 3]\n",
      "  [4 5 6]]]\n"
     ]
    }
   ],
   "source": [
    "threeD = np.array([\n",
    "    [[1, 2, 3], [4, 5, 6]],\n",
    "    [[1, 2, 3], [4, 5, 6]]\n",
    "])\n",
    "\n",
    "print(threeD)"
   ]
  },
  {
   "cell_type": "markdown",
   "id": "379d6efb-7151-408e-bcaa-3accbf52edd2",
   "metadata": {},
   "source": [
    "### Check Dimensions"
   ]
  },
  {
   "cell_type": "code",
   "execution_count": 16,
   "id": "df4a6f56-8272-493d-961e-75222361d17f",
   "metadata": {},
   "outputs": [
    {
     "name": "stdout",
     "output_type": "stream",
     "text": [
      "1\n",
      "2\n",
      "3\n"
     ]
    }
   ],
   "source": [
    "print(oneD.ndim)\n",
    "print(twoD.ndim)\n",
    "print(threeD.ndim)\n"
   ]
  },
  {
   "cell_type": "markdown",
   "id": "ce582f72-d43d-493c-8f70-8aa0c57e63eb",
   "metadata": {},
   "source": [
    "### Higher Dimensional Arrays\n",
    "#### An array can have any number of dimensions.\n",
    "\n",
    "### When the array is created, you can define the number of dimensions by using the `ndmin` argument."
   ]
  },
  {
   "cell_type": "code",
   "execution_count": 20,
   "id": "10eec919-dd09-4edd-9104-dee6ba96786f",
   "metadata": {},
   "outputs": [
    {
     "name": "stdout",
     "output_type": "stream",
     "text": [
      "[[[[[1 2 3 4]]]]]\n",
      "Number of dimensions : 5\n"
     ]
    }
   ],
   "source": [
    "nDimArray = np.array([1, 2, 3, 4], ndmin=5)\n",
    "\n",
    "print(nDimArray)\n",
    "print('Number of dimensions :', nDimArray.ndim)"
   ]
  },
  {
   "cell_type": "markdown",
   "id": "fa815bf6-4c95-41e5-a4d3-e6c6e1c29e99",
   "metadata": {},
   "source": [
    "## Indexing Array"
   ]
  },
  {
   "cell_type": "markdown",
   "id": "8a7b6f32-8e61-4378-accc-d6950b7647ea",
   "metadata": {},
   "source": [
    "Array indexing is the same as accessing an array element.\n",
    "\n",
    "You can access an array element by referring to its index number.\n",
    "\n",
    "The indexes in NumPy arrays start with 0, meaning that the first element has index 0, and the second has index 1 etc.\n",
    "\n"
   ]
  },
  {
   "cell_type": "markdown",
   "id": "765627e1-8e1d-4dbc-850d-58274931fce0",
   "metadata": {},
   "source": [
    "#### Get second element of array"
   ]
  },
  {
   "cell_type": "code",
   "execution_count": 21,
   "id": "72632ef3-a43d-4202-9930-fbe8a08efff2",
   "metadata": {},
   "outputs": [
    {
     "name": "stdout",
     "output_type": "stream",
     "text": [
      "2\n"
     ]
    }
   ],
   "source": [
    "arr = np.array([1, 2, 3, 4])\n",
    "\n",
    "print(arr[1])"
   ]
  },
  {
   "cell_type": "markdown",
   "id": "5789b65f-fc8a-4195-9be5-18c0dcbd23e9",
   "metadata": {},
   "source": [
    "### Access 2-D Arrays"
   ]
  },
  {
   "cell_type": "markdown",
   "id": "4aaa603d-468f-4a89-832f-021f6ee5bcbb",
   "metadata": {},
   "source": [
    "To access elements from 2-D arrays we can use comma separated integers representing the dimension and the index of the element.\n",
    "\n",
    "Think of 2-D arrays like a table with rows and columns, where the dimension represents the row and the index represents the column.\n",
    "\n"
   ]
  },
  {
   "cell_type": "code",
   "execution_count": 20,
   "id": "45238256-e713-4ecf-af3f-8b91aff3b83c",
   "metadata": {},
   "outputs": [
    {
     "name": "stdout",
     "output_type": "stream",
     "text": [
      "2nd element on 1st row:  7\n"
     ]
    }
   ],
   "source": [
    "twoD = np.array(\n",
    "    [\n",
    "    [1,2,3,4,5],\n",
    "    [6,7,8,9,10]\n",
    "    ])\n",
    "\n",
    "print('2nd element on 1st row: ', twoD[1, 1])"
   ]
  },
  {
   "cell_type": "markdown",
   "id": "adfd4d20-4a36-4c82-bfd1-a74ee385dfa9",
   "metadata": {},
   "source": [
    "#### Q1.Access the element on the 2nd row, 5th column"
   ]
  },
  {
   "cell_type": "markdown",
   "id": "7c8f4fa4-f4ec-42e3-9070-75863f88e058",
   "metadata": {},
   "source": [
    "### Access 3-D Arrays\n",
    "To access elements from 3-D arrays we can use comma separated integers representing the dimensions and the index of the element."
   ]
  },
  {
   "cell_type": "code",
   "execution_count": 23,
   "id": "f56bb9af-9102-4196-adfa-4fe349869790",
   "metadata": {},
   "outputs": [
    {
     "name": "stdout",
     "output_type": "stream",
     "text": [
      "6\n"
     ]
    }
   ],
   "source": [
    "threeD = np.array([\n",
    "    [[1, 2, 3], [4, 5, 6]],\n",
    "    [[7, 8, 9], [10, 11, 12]]\n",
    "])\n",
    "\n",
    "print(threeD[0, 1, 2])"
   ]
  },
  {
   "cell_type": "markdown",
   "id": "54c46a55-a633-46d4-bf99-82347ab18e6c",
   "metadata": {},
   "source": [
    "### Negative Indexing\n",
    "Use negative indexing to access an array from the end.\n"
   ]
  },
  {
   "cell_type": "code",
   "execution_count": 26,
   "id": "648d91b3-fddc-4ccb-b0e9-14c34355d53a",
   "metadata": {},
   "outputs": [
    {
     "name": "stdout",
     "output_type": "stream",
     "text": [
      "Last element from 2nd dim:  10\n"
     ]
    }
   ],
   "source": [
    "negArr = np.array([\n",
    "    [1,2,3,4,5],\n",
    "    [6,7,8,9,10]\n",
    "])\n",
    "\n",
    "print('Last element from 2nd dim: ', negArr[1, -1])"
   ]
  },
  {
   "cell_type": "code",
   "execution_count": null,
   "id": "4e813229-568c-4259-a5ea-db64afd77671",
   "metadata": {},
   "outputs": [],
   "source": []
  },
  {
   "cell_type": "markdown",
   "id": "e4a4f34f-ea6a-479d-aa18-2c6670f2a1d7",
   "metadata": {},
   "source": [
    "#  Array Transposition "
   ]
  },
  {
   "cell_type": "markdown",
   "id": "108d2adf-8356-4666-94b1-e003545fb63c",
   "metadata": {},
   "source": [
    "The `transpose()` method swaps the axes of the given array similar to the transpose of a matrix in mathematics."
   ]
  },
  {
   "cell_type": "markdown",
   "id": "214148c8-583c-4961-8ffc-918733bf1411",
   "metadata": {},
   "source": [
    "\n",
    "The `transpose()` method takes two arguments:\n",
    "\n",
    "`array` - the array to be transposed\n",
    "`axes`(optional) - the axes of the transposed matrix ( `tuple` or `list` of integers )"
   ]
  },
  {
   "cell_type": "code",
   "execution_count": null,
   "id": "8fcc0b8e-5623-47ce-abc4-84e57d632972",
   "metadata": {},
   "outputs": [],
   "source": []
  },
  {
   "cell_type": "code",
   "execution_count": null,
   "id": "c75d185b-0ce3-44e6-89ef-7f5f454b3d13",
   "metadata": {},
   "outputs": [],
   "source": []
  },
  {
   "cell_type": "code",
   "execution_count": 27,
   "id": "5e25d393-477a-44b7-8d57-eec889e603f0",
   "metadata": {},
   "outputs": [
    {
     "name": "stdout",
     "output_type": "stream",
     "text": [
      "Original Array:\n",
      "[[1 2 3]\n",
      " [4 5 6]]\n",
      "Transposed Array:\n",
      "[[1 4]\n",
      " [2 5]\n",
      " [3 6]]\n"
     ]
    }
   ],
   "source": [
    "orginalArray = np.array([\n",
    "    [1, 2, 3],\n",
    "    [4, 5, 6]\n",
    "])\n",
    "\n",
    "print(f'Original Array:\\n{orginalArray}')\n",
    "\n",
    "arr_transpose = orginalArray.transpose()\n",
    "\n",
    "print(f'Transposed Array:\\n{arr_transpose}')"
   ]
  },
  {
   "cell_type": "markdown",
   "id": "ee19f3f7-14d1-4135-9728-2cdfaa436f79",
   "metadata": {},
   "source": [
    "#### Pictorial Demo"
   ]
  },
  {
   "attachments": {
    "2d21e0ee-6ace-429e-a5f7-a9bbfae2c0c2.png": {
     "image/png": "[encoded data removed]"
    }
   },
   "cell_type": "markdown",
   "id": "bb0039ba-fbdc-47f8-9d84-5d653e9c6734",
   "metadata": {},
   "source": [
    "![image.png](attachment:2d21e0ee-6ace-429e-a5f7-a9bbfae2c0c2.png)"
   ]
  },
  {
   "cell_type": "markdown",
   "id": "943a1c6d-8fa9-4ac1-9427-acd684c3375c",
   "metadata": {},
   "source": [
    "#### Transpose 3x3 array"
   ]
  },
  {
   "cell_type": "code",
   "execution_count": 27,
   "id": "daae62cc-7585-4876-a469-2fd8d349200f",
   "metadata": {},
   "outputs": [
    {
     "name": "stdout",
     "output_type": "stream",
     "text": [
      "[[1 2 3]\n",
      " [4 5 6]\n",
      " [7 8 9]]\n",
      "\n",
      "[[1 4 7]\n",
      " [2 5 8]\n",
      " [3 6 9]]\n",
      "\n",
      "[[1 4 7]\n",
      " [2 5 8]\n",
      " [3 6 9]]\n",
      "\n",
      "[[1 2 3]\n",
      " [4 5 6]\n",
      " [7 8 9]]\n"
     ]
    }
   ],
   "source": [
    "# making a 3x3 array\n",
    "newArr = np.array([\n",
    "    [1, 2, 3],\n",
    "    [4, 5, 6],\n",
    "    [7, 8, 9]])\n",
    " \n",
    "# before transpose\n",
    "print(newArr, end ='\\n\\n')\n",
    " \n",
    "# after transpose\n",
    "print(newArr.transpose(1, 0),end ='\\n\\n')\n",
    "\n",
    "print(newArr.transpose(),end ='\\n\\n')\n",
    "\n",
    "print(newArr.transpose(0,1),end ='\\n')\n"
   ]
  },
  {
   "cell_type": "code",
   "execution_count": null,
   "id": "1eb00b20-de4f-492e-bac8-cdac74c2715b",
   "metadata": {},
   "outputs": [],
   "source": []
  },
  {
   "cell_type": "markdown",
   "id": "924dbed9-1ce5-46e5-a1cf-66321dfe8d71",
   "metadata": {},
   "source": [
    "# Numpy ufuncs"
   ]
  },
  {
   "cell_type": "markdown",
   "id": "76aa0061-ba74-4cff-a2b5-7b8d351b274a",
   "metadata": {},
   "source": [
    "ufuncs stands for \"Universal Functions\" and they are NumPy functions that operate on the ndarray object."
   ]
  },
  {
   "cell_type": "markdown",
   "id": "5591e3a9-10ea-49e9-8ecb-30ec2b050e99",
   "metadata": {},
   "source": [
    "ufuncs are used to implement vectorization in NumPy which is way faster than iterating over elements."
   ]
  },
  {
   "cell_type": "markdown",
   "id": "392f0d75-a156-45ac-a30b-41588c985cf6",
   "metadata": {},
   "source": [
    "Converting iterative statements into a vector based operation is called vectorization.\n",
    "\n",
    "It is faster as modern CPUs are optimized for such operations."
   ]
  },
  {
   "cell_type": "markdown",
   "id": "4abce18f-6bc6-4eb8-8460-015972cdba2e",
   "metadata": {},
   "source": [
    "Add the Elements of Two Lists\n",
    "\n",
    "list 1: [1, 2, 3, 4]\n",
    "\n",
    "list 2: [4, 5, 6, 7]\n",
    "\n",
    "One way of doing it is to iterate over both of the lists and then sum each elements."
   ]
  },
  {
   "cell_type": "code",
   "execution_count": 35,
   "id": "560ce6e1-d383-4288-b735-e325036cff21",
   "metadata": {},
   "outputs": [
    {
     "name": "stdout",
     "output_type": "stream",
     "text": [
      "[5, 7, 9, 11]\n"
     ]
    }
   ],
   "source": [
    "x = [1, 2, 3, 4]\n",
    "y = [4, 5, 6, 7]\n",
    "z = []\n",
    "\n",
    "for i, j in zip(x, y):\n",
    "  z.append(i + j)\n",
    "    \n",
    "print(z)"
   ]
  },
  {
   "cell_type": "markdown",
   "id": "d202bae3-8f05-485b-bb70-f93ac56a068b",
   "metadata": {},
   "source": [
    "#### Using ufunc `add`"
   ]
  },
  {
   "cell_type": "code",
   "execution_count": 37,
   "id": "b3219a63-99fa-4c13-80c7-9d71576933ff",
   "metadata": {},
   "outputs": [
    {
     "name": "stdout",
     "output_type": "stream",
     "text": [
      "[ 5  7  9 11]\n"
     ]
    }
   ],
   "source": [
    "x = [1, 2, 3, 4]\n",
    "y = [4, 5, 6, 7]\n",
    "z = np.add(x, y)\n",
    "\n",
    "print(z)"
   ]
  },
  {
   "cell_type": "code",
   "execution_count": null,
   "id": "df30d23b-2fa8-4920-98e0-989bd1d617ef",
   "metadata": {},
   "outputs": [],
   "source": []
  },
  {
   "cell_type": "markdown",
   "id": "813ec907-d0c1-4da1-bb36-0c49c65b04d2",
   "metadata": {},
   "source": [
    "### Create your own ufunc"
   ]
  },
  {
   "cell_type": "markdown",
   "id": "4135eb87-f657-4167-9423-864c3cd2075d",
   "metadata": {},
   "source": [
    "To create your own ufunc, you have to define a function, like you do with normal functions in Python, then you add it to your NumPy ufunc library with the `frompyfunc()` method.\n",
    "\n",
    "The `frompyfunc()` method takes the following arguments:\n",
    "\n",
    "`function` - the name of the function.\n",
    "`inputs` - the number of input arguments (arrays).\n",
    "`outputs` - the number of output arrays."
   ]
  },
  {
   "cell_type": "code",
   "execution_count": 38,
   "id": "c1a9af95-0674-4c79-b9fe-dbd12ef9bc83",
   "metadata": {},
   "outputs": [
    {
     "name": "stdout",
     "output_type": "stream",
     "text": [
      "[6 8 10 12]\n"
     ]
    }
   ],
   "source": [
    "def myadd(x, y):\n",
    "  return x+y\n",
    "\n",
    "myadd = np.frompyfunc(myadd, 2, 1)\n",
    "\n",
    "print(myadd([1, 2, 3, 4], [5, 6, 7, 8]))"
   ]
  },
  {
   "cell_type": "markdown",
   "id": "8e9b0208-7bcf-496b-81da-90a9a4f3dc55",
   "metadata": {},
   "source": [
    "### Check if your function is ufunc or not"
   ]
  },
  {
   "cell_type": "code",
   "execution_count": 39,
   "id": "662d3b02-93e8-4c0f-b6ea-544c3b095cf4",
   "metadata": {},
   "outputs": [
    {
     "name": "stdout",
     "output_type": "stream",
     "text": [
      "<class 'numpy.ufunc'>\n"
     ]
    }
   ],
   "source": [
    "print(type(np.add))"
   ]
  },
  {
   "cell_type": "code",
   "execution_count": 40,
   "id": "a5a55913-7d28-4ee8-a38f-8645ba787856",
   "metadata": {},
   "outputs": [
    {
     "name": "stdout",
     "output_type": "stream",
     "text": [
      "<class 'function'>\n"
     ]
    }
   ],
   "source": [
    "print(type(np.concatenate))"
   ]
  },
  {
   "cell_type": "markdown",
   "id": "a325e51f-1c47-4ccc-8c1f-f776859595a3",
   "metadata": {},
   "source": [
    "## Arithmetic with Numpy ufunc"
   ]
  },
  {
   "cell_type": "markdown",
   "id": "5ec8663b-ffef-4a60-b3e6-3f401a77869a",
   "metadata": {},
   "source": [
    "### Multiply"
   ]
  },
  {
   "cell_type": "code",
   "execution_count": 46,
   "id": "622b6d32-e9fd-4204-8481-487d0e664301",
   "metadata": {},
   "outputs": [
    {
     "name": "stdout",
     "output_type": "stream",
     "text": [
      "[ 200  420  660  920 1200 1500]\n"
     ]
    }
   ],
   "source": [
    "arr1 = np.array([10, 20, 30, 40, 50, 60])\n",
    "arr2 = np.array([20, 21, 22, 23, 24, 25])\n",
    "\n",
    "newarr = np.multiply(arr1, arr2)\n",
    "\n",
    "print(newarr)"
   ]
  },
  {
   "cell_type": "markdown",
   "id": "6b1549bb-5df1-4374-8d3b-b304a0409805",
   "metadata": {},
   "source": [
    "### Power"
   ]
  },
  {
   "cell_type": "code",
   "execution_count": 49,
   "id": "8a4dc5ea-3a95-4b94-9e20-c7ccbe7e1cdd",
   "metadata": {},
   "outputs": [
    {
     "name": "stdout",
     "output_type": "stream",
     "text": [
      "[    1    32   729 65536    25   216]\n"
     ]
    }
   ],
   "source": [
    "arr1 = np.array([1, 2, 3, 4, 5, 6])\n",
    "arr2 = np.array([3, 5, 6, 8, 2, 3])\n",
    "\n",
    "newarr = np.power(arr1, arr2)\n",
    "\n",
    "print(newarr)"
   ]
  },
  {
   "cell_type": "markdown",
   "id": "0508fb5f-4682-4277-8115-6208e62dfbb6",
   "metadata": {},
   "source": [
    "### Mod or Reminder"
   ]
  },
  {
   "cell_type": "code",
   "execution_count": 43,
   "id": "3b92e46f-2d61-4433-99cd-0df9661c8d50",
   "metadata": {},
   "outputs": [
    {
     "name": "stdout",
     "output_type": "stream",
     "text": [
      "[ 1  6  3  0  0 27]\n"
     ]
    }
   ],
   "source": [
    "arr1 = np.array([10, 20, 30, 40, 50, 60])\n",
    "arr2 = np.array([3, 7, 9, 8, 2, 33])\n",
    "\n",
    "newarr = np.mod(arr1, arr2)\n",
    "\n",
    "print(newarr)"
   ]
  },
  {
   "cell_type": "code",
   "execution_count": 44,
   "id": "7ed0bf11-9c06-4e53-bd32-d7140bf51843",
   "metadata": {},
   "outputs": [
    {
     "name": "stdout",
     "output_type": "stream",
     "text": [
      "[ 1  6  3  0  0 27]\n"
     ]
    }
   ],
   "source": [
    "arr1 = np.array([10, 20, 30, 40, 50, 60])\n",
    "arr2 = np.array([3, 7, 9, 8, 2, 33])\n",
    "\n",
    "newarr = np.remainder(arr1, arr2)\n",
    "\n",
    "print(newarr)"
   ]
  },
  {
   "cell_type": "code",
   "execution_count": null,
   "id": "edc6af19-9659-4e02-9a59-b1eced7d9765",
   "metadata": {},
   "outputs": [],
   "source": []
  },
  {
   "cell_type": "markdown",
   "id": "7c98fa76-8f88-446b-8d08-29ff6730c59d",
   "metadata": {},
   "source": [
    "## NumPy Logs"
   ]
  },
  {
   "cell_type": "markdown",
   "id": "4edeb9cb-f9d9-4ec6-a1a7-82340210c4eb",
   "metadata": {},
   "source": [
    "The `numpy.log()` is a mathematical function that helps user to calculate Natural logarithm of x where x belongs to all the input array elements."
   ]
  },
  {
   "cell_type": "code",
   "execution_count": 50,
   "id": "954fa157-bb7e-4cdf-88f1-686aa4eb6b5a",
   "metadata": {},
   "outputs": [
    {
     "name": "stdout",
     "output_type": "stream",
     "text": [
      "Input array :  [1, 3, 5, 256]\n",
      "Output array :  [0.         1.09861229 1.60943791 5.54517744]\n",
      "\n",
      "np.log(4**4) :  5.545177444479562\n",
      "np.log(2**8) :  5.545177444479562\n"
     ]
    }
   ],
   "source": [
    "in_array = [1, 3, 5, 2**8] \n",
    "print (\"Input array : \", in_array) \n",
    "  \n",
    "out_array = np.log(in_array) \n",
    "print (\"Output array : \", out_array) \n",
    "  \n",
    "  \n",
    "print(\"\\nnp.log(4**4) : \", np.log(4**4)) \n",
    "print(\"np.log(2**8) : \", np.log(2**8)) "
   ]
  },
  {
   "cell_type": "markdown",
   "id": "2b22df6a-fc06-4eec-b620-20ac4eeee632",
   "metadata": {},
   "source": [
    "### Finding LCM (Lowest Common Multiple)"
   ]
  },
  {
   "cell_type": "code",
   "execution_count": 5,
   "id": "38ce23ab-e489-49d9-887a-f67affb14660",
   "metadata": {},
   "outputs": [
    {
     "name": "stdout",
     "output_type": "stream",
     "text": [
      "12\n"
     ]
    }
   ],
   "source": [
    "num1 = 4\n",
    "num2 = 6\n",
    "\n",
    "x = np.lcm(num1, num2)\n",
    "\n",
    "print(x)"
   ]
  },
  {
   "cell_type": "markdown",
   "id": "73990bbb-46ef-4c13-be79-c121cbe0b1d1",
   "metadata": {},
   "source": [
    " Ans: 12 because that is the lowest common multiple of both numbers (4x3=12 and 6x2=12)."
   ]
  },
  {
   "cell_type": "markdown",
   "id": "f9f002f6-f7e3-48ef-99cd-80375ef141ff",
   "metadata": {},
   "source": [
    "### Finding LCM in Arrays"
   ]
  },
  {
   "cell_type": "markdown",
   "id": "6c82ab8b-baa1-4a8e-9f1e-050ce4ad0792",
   "metadata": {},
   "source": [
    "The `reduce()` method will use the ufunc, in this case the `lcm()` function, on each element, and reduce the array by one dimension."
   ]
  },
  {
   "cell_type": "code",
   "execution_count": 6,
   "id": "33f3b687-8d52-44ec-8163-e3fba36d9860",
   "metadata": {},
   "outputs": [
    {
     "name": "stdout",
     "output_type": "stream",
     "text": [
      "18\n"
     ]
    }
   ],
   "source": [
    "arr = np.array([3, 6, 9])\n",
    "\n",
    "x = np.lcm.reduce(arr)\n",
    "\n",
    "print(x)"
   ]
  },
  {
   "cell_type": "markdown",
   "id": "9461a29a-81a1-4463-ac2b-f05ba064f427",
   "metadata": {},
   "source": [
    "Ans: 18 because that is the lowest common multiple of all three numbers (3x6=18, 6x3=18 and 9x2=18)."
   ]
  },
  {
   "cell_type": "code",
   "execution_count": null,
   "id": "7b17787e-d660-494c-b2ab-2047cad5a652",
   "metadata": {},
   "outputs": [],
   "source": []
  },
  {
   "cell_type": "markdown",
   "id": "df5b20f1-d554-493d-8be1-d6eaa097825e",
   "metadata": {},
   "source": [
    "# Array Processing"
   ]
  },
  {
   "cell_type": "markdown",
   "id": "87744a77-ac6e-41cd-b24c-b98948a45851",
   "metadata": {},
   "source": [
    "#### Searching Arrays\n",
    "You can search an array for a certain value, and return the indexes that get a match.\n",
    "\n",
    "To search an array, use the `where()` method."
   ]
  },
  {
   "cell_type": "code",
   "execution_count": 46,
   "id": "1d870209-ec20-4d47-bb7d-5f2dd024167d",
   "metadata": {},
   "outputs": [
    {
     "name": "stdout",
     "output_type": "stream",
     "text": [
      "(array([3, 5, 6]),)\n",
      "False\n"
     ]
    }
   ],
   "source": [
    "arr = np.array([1, 2, 3, 4, 5, 4, 4])\n",
    "\n",
    "arr2 = np.array(False)\n",
    "\n",
    "x = np.where(arr == 4 )\n",
    "\n",
    "print(x)\n",
    "print(y)\n"
   ]
  },
  {
   "cell_type": "markdown",
   "id": "c647dadc-733a-4a4b-86f2-caa08b6b7390",
   "metadata": {},
   "source": [
    "Ans : return a tuple: `(array([3, 5, 6],)`\n",
    "\n",
    "Which means that the value 4 is present at index 3, 5, and 6."
   ]
  },
  {
   "cell_type": "markdown",
   "id": "9b64295b-81ef-43ae-8bca-ab35e143c2ff",
   "metadata": {},
   "source": [
    "#### Find the indexes where the values are even:"
   ]
  },
  {
   "cell_type": "code",
   "execution_count": 47,
   "id": "53163881-8867-4af8-b83e-109baf0ec124",
   "metadata": {},
   "outputs": [
    {
     "name": "stdout",
     "output_type": "stream",
     "text": [
      "(array([1, 3, 5, 7]),)\n",
      "<class 'tuple'>\n"
     ]
    }
   ],
   "source": [
    "arr = np.array([1, 2, 3, 4, 5, 6, 7, 8])\n",
    "\n",
    "x = np.where(arr%2 == 0)\n",
    "\n",
    "print(x)\n",
    "print(type(x))"
   ]
  },
  {
   "cell_type": "code",
   "execution_count": null,
   "id": "493fe27f-a2b1-4ff6-8ad1-9f7e61f35356",
   "metadata": {},
   "outputs": [],
   "source": []
  },
  {
   "cell_type": "markdown",
   "id": "e1cab12d-0464-40d2-afa9-a4bb65848bc7",
   "metadata": {},
   "source": [
    "#### Sorting Arrays\n",
    "Sorting means putting elements in an ordered sequence.\n",
    "\n",
    "Ordered sequence is any sequence that has an order corresponding to elements, like numeric or alphabetical, ascending or descending.\n",
    "\n",
    "The NumPy ndarray object has a function called `sort()`, that will sort a specified array."
   ]
  },
  {
   "cell_type": "code",
   "execution_count": 10,
   "id": "52a3eafa-f808-4950-bef3-46816c5cbc63",
   "metadata": {},
   "outputs": [
    {
     "name": "stdout",
     "output_type": "stream",
     "text": [
      "[0 1 2 3]\n"
     ]
    }
   ],
   "source": [
    "arr = np.array([3, 2, 0, 1])\n",
    "\n",
    "print(np.sort(arr))"
   ]
  },
  {
   "cell_type": "markdown",
   "id": "8e37d135-25ac-44d0-a1fd-2bd3d2d9ca0d",
   "metadata": {},
   "source": [
    "It will create a copy of array and sort it, doesnot change the original array"
   ]
  },
  {
   "cell_type": "markdown",
   "id": "4ef6042f-ad4b-46f6-9d43-1cc0f303981b",
   "metadata": {},
   "source": [
    "#### Sorting array of string - sort based on alphabetically"
   ]
  },
  {
   "cell_type": "code",
   "execution_count": 48,
   "id": "22f5c105-ccf1-4f05-9a3a-9ef81b90b2b0",
   "metadata": {},
   "outputs": [
    {
     "name": "stdout",
     "output_type": "stream",
     "text": [
      "['34' '67' '87' 'apple' 'banana' 'cherry']\n"
     ]
    }
   ],
   "source": [
    "arr = np.array(['banana', 'cherry', 'apple',34, 67,87])\n",
    "\n",
    "print(np.sort(arr))"
   ]
  },
  {
   "cell_type": "markdown",
   "id": "a2bf3efe-796a-43ce-b775-e374c301498b",
   "metadata": {},
   "source": [
    "#### Sorting boolean array "
   ]
  },
  {
   "cell_type": "code",
   "execution_count": 12,
   "id": "cbac5386-5535-4d11-b541-0819e175497c",
   "metadata": {},
   "outputs": [
    {
     "name": "stdout",
     "output_type": "stream",
     "text": [
      "[False  True  True]\n"
     ]
    }
   ],
   "source": [
    "arr = np.array([True, False, True])\n",
    "\n",
    "print(np.sort(arr))"
   ]
  },
  {
   "cell_type": "markdown",
   "id": "d8eaaf13-2ed8-4741-ab39-852fedd85762",
   "metadata": {},
   "source": [
    "#### Now, lets sort 2-D array "
   ]
  },
  {
   "cell_type": "code",
   "execution_count": 13,
   "id": "4f9a948e-0ba7-4ad2-adbb-f61411c2b7bb",
   "metadata": {},
   "outputs": [
    {
     "name": "stdout",
     "output_type": "stream",
     "text": [
      "[[2 3 4]\n",
      " [0 1 5]]\n"
     ]
    }
   ],
   "source": [
    "arr = np.array([[3, 2, 4], [5, 0, 1]])\n",
    "\n",
    "print(np.sort(arr))"
   ]
  },
  {
   "cell_type": "code",
   "execution_count": null,
   "id": "d2630cbe-6dc2-4c79-821e-84dab851e812",
   "metadata": {},
   "outputs": [],
   "source": []
  },
  {
   "cell_type": "markdown",
   "id": "29905aef-d543-40c7-955a-d1289520a0d6",
   "metadata": {},
   "source": [
    "#  Input and Output Numpy "
   ]
  },
  {
   "cell_type": "markdown",
   "id": "3e44f863-7644-4726-9269-02102b494e1a",
   "metadata": {},
   "source": [
    "NumPy offers input/output (I/O) functions for loading and saving data to and from files."
   ]
  },
  {
   "cell_type": "markdown",
   "id": "7a34598e-aad2-4c7a-9cd2-46bb6c54647e",
   "metadata": {},
   "source": [
    "Here are some of the commonly used NumPy Input/Output functions:"
   ]
  },
  {
   "cell_type": "markdown",
   "id": "782c6923-af0b-4c76-b09e-fe8c55a8c111",
   "metadata": {},
   "source": [
    "`save()`\tsaves an array to a binary file in the NumPy `.npy` format."
   ]
  },
  {
   "cell_type": "markdown",
   "id": "a3d38f4c-2d4b-46c6-89ba-65c03de86f44",
   "metadata": {},
   "source": [
    "`load()`\tloads data from a binary file in the NumPy `.npy` format"
   ]
  },
  {
   "cell_type": "markdown",
   "id": "7ace6f5e-4748-444d-8594-da8083adf9e6",
   "metadata": {},
   "source": [
    "`savetxt()`\tsaves an array to a text file in a specific format"
   ]
  },
  {
   "cell_type": "markdown",
   "id": "5366d874-9603-476f-b6b1-b99592c56f26",
   "metadata": {},
   "source": [
    "`loadtxt()`\tloads data from a text file."
   ]
  },
  {
   "cell_type": "markdown",
   "id": "d7b32925-6f66-4742-bb8e-1fed800ee9a7",
   "metadata": {},
   "source": [
    "#### Numpy save() Function"
   ]
  },
  {
   "cell_type": "code",
   "execution_count": 50,
   "id": "72df6f11-854d-425a-923f-46f364d808a2",
   "metadata": {},
   "outputs": [],
   "source": [
    "# create a NumPy array\n",
    "array1 = np.array([[1, 3, 5], \n",
    "                   [7, 9, 11]])\n",
    "\n",
    "# save the array to a file\n",
    "np.save('/Users/dipeshsiwakoti/Development/file1.npy', array1)"
   ]
  },
  {
   "cell_type": "markdown",
   "id": "78721102-013c-4ecc-abef-d181f32d2f8b",
   "metadata": {},
   "source": [
    "#### Numpy load() Function"
   ]
  },
  {
   "cell_type": "code",
   "execution_count": 16,
   "id": "57837d5d-48fe-42ff-a331-41cabd33a834",
   "metadata": {},
   "outputs": [
    {
     "name": "stdout",
     "output_type": "stream",
     "text": [
      "[[ 1  3  5]\n",
      " [ 7  9 11]]\n"
     ]
    }
   ],
   "source": [
    "# load the saved NumPy array\n",
    "loaded_array = np.load('file1.npy')\n",
    "\n",
    "# display the loaded array\n",
    "print(loaded_array)"
   ]
  },
  {
   "cell_type": "code",
   "execution_count": null,
   "id": "74940ed5-fe54-4af9-aa66-75edd3d48513",
   "metadata": {},
   "outputs": [],
   "source": [
    "#### NumPy savetxt() Function"
   ]
  },
  {
   "cell_type": "code",
   "execution_count": 51,
   "id": "5c79ae3e-0482-4327-aed1-a7010637d9fa",
   "metadata": {},
   "outputs": [],
   "source": [
    "import numpy as np\n",
    "\n",
    "# create a NumPy array\n",
    "array2 = np.array([[1, 3, 5], \n",
    "                   [7, 9, 11]])\n",
    "\n",
    "# save the array to a file\n",
    "np.savetxt('/Users/dipeshsiwakoti/Development/file2.txt', array2)"
   ]
  },
  {
   "cell_type": "code",
   "execution_count": null,
   "id": "e288447f-cbd8-4ef5-a088-d3fcaef0a4b0",
   "metadata": {},
   "outputs": [],
   "source": [
    "#### NumPy loadtxt() Function"
   ]
  },
  {
   "cell_type": "code",
   "execution_count": 18,
   "id": "78562cd6-6790-45cc-a07f-e67c62b7e9c9",
   "metadata": {},
   "outputs": [
    {
     "name": "stdout",
     "output_type": "stream",
     "text": [
      "[[ 1.  3.  5.]\n",
      " [ 7.  9. 11.]]\n"
     ]
    }
   ],
   "source": [
    "# load the saved NumPy array\n",
    "loaded_array = np.loadtxt('file2.txt')\n",
    "\n",
    "# display the loaded array\n",
    "print(loaded_array)"
   ]
  },
  {
   "cell_type": "markdown",
   "id": "ed29f6c8-ad60-4963-aa02-31df766318ce",
   "metadata": {},
   "source": [
    "**Note:** The values in the loaded array have dots `.` because `loadtxt()` reads the values as floating point numbers by default."
   ]
  },
  {
   "cell_type": "code",
   "execution_count": null,
   "id": "6c773ab3-babc-4e46-94b3-8e0b110e4cf2",
   "metadata": {},
   "outputs": [],
   "source": []
  }
 ],
 "metadata": {
  "kernelspec": {
   "display_name": "Python 3 (ipykernel)",
   "language": "python",
   "name": "python3"
  },
  "language_info": {
   "codemirror_mode": {
    "name": "ipython",
    "version": 3
   },
   "file_extension": ".py",
   "mimetype": "text/x-python",
   "name": "python",
   "nbconvert_exporter": "python",
   "pygments_lexer": "ipython3",
   "version": "3.11.2"
  }
 },
 "nbformat": 4,
 "nbformat_minor": 5
}
